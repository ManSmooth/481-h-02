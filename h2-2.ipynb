{
 "cells": [
  {
   "cell_type": "code",
   "execution_count": 1,
   "metadata": {},
   "outputs": [],
   "source": [
    "from numpy import array\n",
    "from scipy.sparse import coo_matrix, csr_matrix, csc_matrix, dok_matrix, lil_matrix\n",
    "import timeit\n"
   ]
  },
  {
   "cell_type": "markdown",
   "metadata": {},
   "source": [
    "# 62"
   ]
  },
  {
   "cell_type": "code",
   "execution_count": 2,
   "metadata": {},
   "outputs": [
    {
     "name": "stdout",
     "output_type": "stream",
     "text": [
      "[[1 0 0 1 0 0]\n",
      " [0 0 2 0 0 1]\n",
      " [0 0 0 2 0 0]]\n",
      "  (0, 0)\t1\n",
      "  (0, 3)\t1\n",
      "  (1, 2)\t2\n",
      "  (1, 5)\t1\n",
      "  (2, 3)\t2\n",
      "  (0, 0)\t1\n",
      "  (2, 0)\t2\n",
      "[[1 0 0 1 0 0]\n",
      " [0 0 2 0 0 1]\n",
      " [0 0 0 2 0 0]]\n",
      "timeit.timeit(lambda : dok_matrix(B), number=times)/times=0.00010697126045000004\n",
      "timeit.timeit(lambda : lil_matrix(B), number=times)/times=0.00013936469105000468\n",
      "timeit.timeit(lambda : csr_matrix(B), number=times)/times=0.00011469011701999989\n",
      "timeit.timeit(lambda : csc_matrix(B), number=times)/times=0.00011148536484000033\n"
     ]
    }
   ],
   "source": [
    "# create dense matrix\n",
    "A = array([[1, 0, 0, 1, 0, 0], [0, 0, 2, 0, 0, 1], [0, 0, 0, 2, 0, 0]])\n",
    "print(A)\n",
    "\n",
    "# convert to sparse matrix (COO method)\n",
    "S = coo_matrix(A)\n",
    "print(S)\n",
    "\n",
    "print(S.tocsr()[:,3])\n",
    "\n",
    "# reconstruct dense matrix\n",
    "B = S.todense()\n",
    "print(B)\n",
    "times = 100000\n",
    "print(f'{timeit.timeit(lambda : dok_matrix(B), number=times)/times=}')\n",
    "print(f'{timeit.timeit(lambda : lil_matrix(B), number=times)/times=}')\n",
    "print(f'{timeit.timeit(lambda : csr_matrix(B), number=times)/times=}')\n",
    "print(f'{timeit.timeit(lambda : csc_matrix(B), number=times)/times=}')\n"
   ]
  },
  {
   "cell_type": "markdown",
   "metadata": {},
   "source": [
    "# 64-67"
   ]
  },
  {
   "cell_type": "code",
   "execution_count": 3,
   "metadata": {},
   "outputs": [
    {
     "name": "stdout",
     "output_type": "stream",
     "text": [
      "INFO: Pandarallel will run on 6 workers.\n",
      "INFO: Pandarallel will use Memory file system to transfer data between the main process and workers.\n"
     ]
    }
   ],
   "source": [
    "from nltk.tokenize import word_tokenize\n",
    "from nltk.corpus import stopwords\n",
    "from nltk.stem import PorterStemmer\n",
    "import pandas as pd\n",
    "from pandarallel import pandarallel\n",
    "import string\n",
    "import numpy as np\n",
    "import timeit\n",
    "\n",
    "pandarallel.initialize()\n",
    "\n",
    "path = r\"./resources/software_developer_united_states_1971_20191023_1.csv\"\n"
   ]
  },
  {
   "cell_type": "code",
   "execution_count": 4,
   "metadata": {},
   "outputs": [],
   "source": [
    "def extract_description(df: pd.DataFrame):\n",
    "    s = df[\"job_description\"]\n",
    "    s = s.parallel_apply(\n",
    "        lambda s: s.lower()\n",
    "        .translate(str.maketrans(\"\", \"\", string.punctuation + \"\\xa0\"))\n",
    "        .translate(str.maketrans(string.whitespace, \" \" * len(string.whitespace)))\n",
    "    )\n",
    "    return s\n",
    "\n",
    "\n",
    "def tokenize(s: pd.Series):\n",
    "    return s.parallel_apply(lambda s: set(word_tokenize(s)))\n",
    "\n",
    "def remove_stopwords(s: pd.Series):\n",
    "    stopwords_set = set(stopwords.words())\n",
    "    return s.parallel_apply(lambda s: s.difference(stopwords_set))\n",
    "\n",
    "def filter_word_length(s: pd.Series, n: int):\n",
    "    return s.parallel_apply(lambda s: {word for word in s if len(word) >= n})\n",
    "\n",
    "def stem(s: pd.Series):\n",
    "    ps = PorterStemmer()\n",
    "    return s.parallel_apply(lambda s: {ps.stem(word) for word in s})\n",
    "\n",
    "\n",
    "def transformation_pipe(df: pd.DataFrame):\n",
    "    s = extract_description(df)\n",
    "    s = tokenize(s)\n",
    "    s = remove_stopwords(s)\n",
    "    s = filter_word_length(s, 3)\n",
    "    s = stem(s)\n",
    "    return s\n"
   ]
  },
  {
   "cell_type": "code",
   "execution_count": 5,
   "metadata": {},
   "outputs": [
    {
     "data": {
      "text/plain": [
       "0      {junior, recruit, relat, healthcar, sole, nonf...\n",
       "1      {relat, grow, xml, framework, skill, enhanc, s...\n",
       "2      {build, recruit, origin, framework, grunt, ec2...\n",
       "3      {suggest, multin, enhanc, recommend, client, l...\n",
       "4      {relat, grow, xml, framework, skill, enhanc, s...\n",
       "                             ...                        \n",
       "995    {563, wwwngsinfonetcom, road, month, skill, 12...\n",
       "996    {origin, deploy, law, skill, thoughtlead, fit,...\n",
       "997    {build, recruit, focu, date, priorit, lost, an...\n",
       "998    {metadata, relat, focu, action, univers, xml, ...\n",
       "999    {extern, integr, applic, consult, asset, syste...\n",
       "Name: job_description, Length: 1000, dtype: object"
      ]
     },
     "execution_count": 5,
     "metadata": {},
     "output_type": "execute_result"
    }
   ],
   "source": [
    "rows = pd.read_csv(path)[:1000]\n",
    "descriptions = transformation_pipe(rows)\n",
    "descriptions\n"
   ]
  },
  {
   "cell_type": "code",
   "execution_count": 6,
   "metadata": {},
   "outputs": [],
   "source": [
    "from sklearn.feature_extraction.text import CountVectorizer\n"
   ]
  },
  {
   "cell_type": "code",
   "execution_count": 7,
   "metadata": {},
   "outputs": [
    {
     "name": "stdout",
     "output_type": "stream",
     "text": [
      "     001  007009501759972  009000010840340  010  010209501755598  \\\n",
      "0      0                0                0    0                0   \n",
      "1      0                0                0    0                0   \n",
      "2      0                0                0    0                0   \n",
      "3      0                0                0    0                0   \n",
      "4      0                0                0    0                0   \n",
      "..   ...              ...              ...  ...              ...   \n",
      "995    0                0                0    0                0   \n",
      "996    0                0                0    0                0   \n",
      "997    0                0                0    0                0   \n",
      "998    0                0                0    0                0   \n",
      "999    0                0                0    0                0   \n",
      "\n",
      "     013000010841024  015000010801094  01581  021019  02108  ...  •the  •two  \\\n",
      "0                  0                0      0       0      0  ...     0     0   \n",
      "1                  0                0      0       0      0  ...     0     0   \n",
      "2                  0                0      0       0      0  ...     0     0   \n",
      "3                  0                0      0       0      0  ...     0     0   \n",
      "4                  0                0      0       0      0  ...     0     0   \n",
      "..               ...              ...    ...     ...    ...  ...   ...   ...   \n",
      "995                0                0      0       0      0  ...     0     0   \n",
      "996                0                0      0       0      0  ...     0     0   \n",
      "997                0                0      0       0      0  ...     0     0   \n",
      "998                0                0      0       0      0  ...     0     0   \n",
      "999                0                0      0       0      0  ...     0     0   \n",
      "\n",
      "     •understand  •updat  •use  •valid  •web  •will  •work  ………and  \n",
      "0              0       0     0       0     0      0      0       0  \n",
      "1              0       0     0       0     0      0      0       0  \n",
      "2              0       0     0       0     0      0      0       0  \n",
      "3              0       0     0       0     0      0      0       0  \n",
      "4              0       0     0       0     0      0      0       0  \n",
      "..           ...     ...   ...     ...   ...    ...    ...     ...  \n",
      "995            0       0     0       0     0      0      0       0  \n",
      "996            0       0     0       0     0      0      0       0  \n",
      "997            0       0     0       0     0      0      0       0  \n",
      "998            0       0     0       0     0      0      0       0  \n",
      "999            0       0     0       0     0      0      0       0  \n",
      "\n",
      "[1000 rows x 9291 columns]\n"
     ]
    }
   ],
   "source": [
    "cv = CountVectorizer(analyzer=lambda x: x)\n",
    "X = cv.fit_transform(descriptions)\n",
    "print(pd.DataFrame(X.toarray(), columns=cv.get_feature_names_out()))\n"
   ]
  },
  {
   "cell_type": "code",
   "execution_count": 8,
   "metadata": {},
   "outputs": [
    {
     "data": {
      "text/plain": [
       "6.241772674000458"
      ]
     },
     "execution_count": 8,
     "metadata": {},
     "output_type": "execute_result"
    }
   ],
   "source": [
    "XX = X.toarray()\n",
    "timeit.timeit(lambda: np.matmul(XX, XX.T),number=1)\n"
   ]
  },
  {
   "cell_type": "code",
   "execution_count": 9,
   "metadata": {},
   "outputs": [
    {
     "data": {
      "text/plain": [
       "0.07192143499923986"
      ]
     },
     "execution_count": 9,
     "metadata": {},
     "output_type": "execute_result"
    }
   ],
   "source": [
    "timeit.timeit(lambda: X*X.T,number=1)\n"
   ]
  },
  {
   "cell_type": "code",
   "execution_count": 10,
   "metadata": {},
   "outputs": [
    {
     "name": "stdout",
     "output_type": "stream",
     "text": [
      "timeit.timeit(lambda: np.matmul(XX, XX.T), number=3)/3=5.775204409333128\n",
      "timeit.timeit(lambda: X.todok()*X.T.todok(),number=3)/3=0.20328985233330363\n",
      "timeit.timeit(lambda: X.tolil()*X.T.tolil(),number=3)/3=0.08749893266667641\n",
      "timeit.timeit(lambda: X.tocoo()*X.T.tocoo(),number=3)/3=0.06553518733350454\n",
      "timeit.timeit(lambda: X.tocsc()*X.T.tocsc(),number=3)/3=0.06209700233315137\n"
     ]
    }
   ],
   "source": [
    "print(f\"{timeit.timeit(lambda: np.matmul(XX, XX.T), number=3)/3=}\")\n",
    "print(f\"{timeit.timeit(lambda: X.todok()*X.T.todok(),number=3)/3=}\")\n",
    "print(f\"{timeit.timeit(lambda: X.tolil()*X.T.tolil(),number=3)/3=}\")\n",
    "print(f\"{timeit.timeit(lambda: X.tocoo()*X.T.tocoo(),number=3)/3=}\")\n",
    "print(f\"{timeit.timeit(lambda: X.tocsc()*X.T.tocsc(),number=3)/3=}\")\n"
   ]
  },
  {
   "cell_type": "markdown",
   "metadata": {},
   "source": [
    "# 70"
   ]
  },
  {
   "cell_type": "code",
   "execution_count": 86,
   "metadata": {},
   "outputs": [],
   "source": [
    "import pandas as pd\n",
    "from multiprocessing import Pool\n"
   ]
  },
  {
   "cell_type": "code",
   "execution_count": 46,
   "metadata": {},
   "outputs": [],
   "source": [
    "rows = pd.read_csv(path)\n",
    "rows.drop_duplicates(inplace=True)\n",
    "descriptions = extract_description(rows)\n",
    "descriptions = tokenize(descriptions)\n"
   ]
  },
  {
   "cell_type": "code",
   "execution_count": 89,
   "metadata": {},
   "outputs": [],
   "source": [
    "def set_filter(s: pd.Series):\n",
    "    stopwords_set = set(stopwords.words())\n",
    "    return s.apply(lambda s: s.difference(stopwords_set))\n",
    "\n",
    "def list_filter(s: pd.Series):\n",
    "    stopwords_list = stopwords.words()\n",
    "    return s.apply(lambda s: [word for word in s if word not in stopwords_list])\n"
   ]
  },
  {
   "cell_type": "code",
   "execution_count": 90,
   "metadata": {},
   "outputs": [
    {
     "data": {
      "text/html": [
       "<div>\n",
       "<style scoped>\n",
       "    .dataframe tbody tr th:only-of-type {\n",
       "        vertical-align: middle;\n",
       "    }\n",
       "\n",
       "    .dataframe tbody tr th {\n",
       "        vertical-align: top;\n",
       "    }\n",
       "\n",
       "    .dataframe thead th {\n",
       "        text-align: right;\n",
       "    }\n",
       "</style>\n",
       "<table border=\"1\" class=\"dataframe\">\n",
       "  <thead>\n",
       "    <tr style=\"text-align: right;\">\n",
       "      <th></th>\n",
       "      <th>size</th>\n",
       "    </tr>\n",
       "  </thead>\n",
       "  <tbody>\n",
       "    <tr>\n",
       "      <th>0</th>\n",
       "      <td>500</td>\n",
       "    </tr>\n",
       "    <tr>\n",
       "      <th>1</th>\n",
       "      <td>1000</td>\n",
       "    </tr>\n",
       "    <tr>\n",
       "      <th>2</th>\n",
       "      <td>1500</td>\n",
       "    </tr>\n",
       "    <tr>\n",
       "      <th>3</th>\n",
       "      <td>2000</td>\n",
       "    </tr>\n",
       "    <tr>\n",
       "      <th>4</th>\n",
       "      <td>2500</td>\n",
       "    </tr>\n",
       "    <tr>\n",
       "      <th>5</th>\n",
       "      <td>3000</td>\n",
       "    </tr>\n",
       "  </tbody>\n",
       "</table>\n",
       "</div>"
      ],
      "text/plain": [
       "   size\n",
       "0   500\n",
       "1  1000\n",
       "2  1500\n",
       "3  2000\n",
       "4  2500\n",
       "5  3000"
      ]
     },
     "execution_count": 90,
     "metadata": {},
     "output_type": "execute_result"
    }
   ],
   "source": [
    "sizes = list(range(0, len(rows), len(rows)//20)) + [len(rows)]\n",
    "sizes.pop(0)\n",
    "perf_df = pd.DataFrame(sizes[:6], columns=[\"size\"])\n",
    "perf_df\n"
   ]
  },
  {
   "cell_type": "code",
   "execution_count": 92,
   "metadata": {},
   "outputs": [
    {
     "name": "stdout",
     "output_type": "stream",
     "text": [
      "pool_size=1 size=500 func=<function set_filter at 0x7fa692c6f520>\n",
      "pool_size=1 size=1000 func=<function set_filter at 0x7fa692c6f520>\n",
      "pool_size=1 size=1500 func=<function set_filter at 0x7fa692c6f520>\n",
      "pool_size=1 size=2000 func=<function set_filter at 0x7fa692c6f520>\n",
      "pool_size=1 size=2500 func=<function set_filter at 0x7fa692c6f520>\n",
      "pool_size=1 size=3000 func=<function set_filter at 0x7fa692c6f520>\n",
      "pool_size=1 size=500 func=<function list_filter at 0x7fa693b93760>\n",
      "pool_size=1 size=1000 func=<function list_filter at 0x7fa693b93760>\n",
      "pool_size=1 size=1500 func=<function list_filter at 0x7fa693b93760>\n",
      "pool_size=1 size=2000 func=<function list_filter at 0x7fa693b93760>\n",
      "pool_size=1 size=2500 func=<function list_filter at 0x7fa693b93760>\n",
      "pool_size=1 size=3000 func=<function list_filter at 0x7fa693b93760>\n",
      "pool_size=2 size=500 func=<function set_filter at 0x7fa692c6f520>\n"
     ]
    },
    {
     "name": "stderr",
     "output_type": "stream",
     "text": [
      "/home/mansmooth/anaconda3/envs/se481-2023/lib/python3.10/site-packages/numpy/core/fromnumeric.py:59: FutureWarning: 'Series.swapaxes' is deprecated and will be removed in a future version. Please use 'Series.transpose' instead.\n",
      "  return bound(*args, **kwds)\n"
     ]
    },
    {
     "name": "stdout",
     "output_type": "stream",
     "text": [
      "pool_size=2 size=1000 func=<function set_filter at 0x7fa692c6f520>\n",
      "pool_size=2 size=1500 func=<function set_filter at 0x7fa692c6f520>\n",
      "pool_size=2 size=2000 func=<function set_filter at 0x7fa692c6f520>\n",
      "pool_size=2 size=2500 func=<function set_filter at 0x7fa692c6f520>\n",
      "pool_size=2 size=3000 func=<function set_filter at 0x7fa692c6f520>\n",
      "pool_size=2 size=500 func=<function list_filter at 0x7fa693b93760>\n"
     ]
    },
    {
     "name": "stderr",
     "output_type": "stream",
     "text": [
      "/home/mansmooth/anaconda3/envs/se481-2023/lib/python3.10/site-packages/numpy/core/fromnumeric.py:59: FutureWarning: 'Series.swapaxes' is deprecated and will be removed in a future version. Please use 'Series.transpose' instead.\n",
      "  return bound(*args, **kwds)\n"
     ]
    },
    {
     "name": "stdout",
     "output_type": "stream",
     "text": [
      "pool_size=2 size=1000 func=<function list_filter at 0x7fa693b93760>\n",
      "pool_size=2 size=1500 func=<function list_filter at 0x7fa693b93760>\n",
      "pool_size=2 size=2000 func=<function list_filter at 0x7fa693b93760>\n",
      "pool_size=2 size=2500 func=<function list_filter at 0x7fa693b93760>\n",
      "pool_size=2 size=3000 func=<function list_filter at 0x7fa693b93760>\n",
      "pool_size=3 size=500 func=<function set_filter at 0x7fa692c6f520>\n"
     ]
    },
    {
     "name": "stderr",
     "output_type": "stream",
     "text": [
      "/home/mansmooth/anaconda3/envs/se481-2023/lib/python3.10/site-packages/numpy/core/fromnumeric.py:59: FutureWarning: 'Series.swapaxes' is deprecated and will be removed in a future version. Please use 'Series.transpose' instead.\n",
      "  return bound(*args, **kwds)\n"
     ]
    },
    {
     "name": "stdout",
     "output_type": "stream",
     "text": [
      "pool_size=3 size=1000 func=<function set_filter at 0x7fa692c6f520>\n",
      "pool_size=3 size=1500 func=<function set_filter at 0x7fa692c6f520>\n",
      "pool_size=3 size=2000 func=<function set_filter at 0x7fa692c6f520>\n",
      "pool_size=3 size=2500 func=<function set_filter at 0x7fa692c6f520>\n",
      "pool_size=3 size=3000 func=<function set_filter at 0x7fa692c6f520>\n",
      "pool_size=3 size=500 func=<function list_filter at 0x7fa693b93760>\n"
     ]
    },
    {
     "name": "stderr",
     "output_type": "stream",
     "text": [
      "/home/mansmooth/anaconda3/envs/se481-2023/lib/python3.10/site-packages/numpy/core/fromnumeric.py:59: FutureWarning: 'Series.swapaxes' is deprecated and will be removed in a future version. Please use 'Series.transpose' instead.\n",
      "  return bound(*args, **kwds)\n"
     ]
    },
    {
     "name": "stdout",
     "output_type": "stream",
     "text": [
      "pool_size=3 size=1000 func=<function list_filter at 0x7fa693b93760>\n",
      "pool_size=3 size=1500 func=<function list_filter at 0x7fa693b93760>\n",
      "pool_size=3 size=2000 func=<function list_filter at 0x7fa693b93760>\n",
      "pool_size=3 size=2500 func=<function list_filter at 0x7fa693b93760>\n",
      "pool_size=3 size=3000 func=<function list_filter at 0x7fa693b93760>\n",
      "pool_size=4 size=500 func=<function set_filter at 0x7fa692c6f520>\n"
     ]
    },
    {
     "name": "stderr",
     "output_type": "stream",
     "text": [
      "/home/mansmooth/anaconda3/envs/se481-2023/lib/python3.10/site-packages/numpy/core/fromnumeric.py:59: FutureWarning: 'Series.swapaxes' is deprecated and will be removed in a future version. Please use 'Series.transpose' instead.\n",
      "  return bound(*args, **kwds)\n"
     ]
    },
    {
     "name": "stdout",
     "output_type": "stream",
     "text": [
      "pool_size=4 size=1000 func=<function set_filter at 0x7fa692c6f520>\n",
      "pool_size=4 size=1500 func=<function set_filter at 0x7fa692c6f520>\n",
      "pool_size=4 size=2000 func=<function set_filter at 0x7fa692c6f520>\n",
      "pool_size=4 size=2500 func=<function set_filter at 0x7fa692c6f520>\n",
      "pool_size=4 size=3000 func=<function set_filter at 0x7fa692c6f520>\n",
      "pool_size=4 size=500 func=<function list_filter at 0x7fa693b93760>\n"
     ]
    },
    {
     "name": "stderr",
     "output_type": "stream",
     "text": [
      "/home/mansmooth/anaconda3/envs/se481-2023/lib/python3.10/site-packages/numpy/core/fromnumeric.py:59: FutureWarning: 'Series.swapaxes' is deprecated and will be removed in a future version. Please use 'Series.transpose' instead.\n",
      "  return bound(*args, **kwds)\n"
     ]
    },
    {
     "name": "stdout",
     "output_type": "stream",
     "text": [
      "pool_size=4 size=1000 func=<function list_filter at 0x7fa693b93760>\n",
      "pool_size=4 size=1500 func=<function list_filter at 0x7fa693b93760>\n",
      "pool_size=4 size=2000 func=<function list_filter at 0x7fa693b93760>\n",
      "pool_size=4 size=2500 func=<function list_filter at 0x7fa693b93760>\n",
      "pool_size=4 size=3000 func=<function list_filter at 0x7fa693b93760>\n",
      "pool_size=5 size=500 func=<function set_filter at 0x7fa692c6f520>\n"
     ]
    },
    {
     "name": "stderr",
     "output_type": "stream",
     "text": [
      "/home/mansmooth/anaconda3/envs/se481-2023/lib/python3.10/site-packages/numpy/core/fromnumeric.py:59: FutureWarning: 'Series.swapaxes' is deprecated and will be removed in a future version. Please use 'Series.transpose' instead.\n",
      "  return bound(*args, **kwds)\n"
     ]
    },
    {
     "name": "stdout",
     "output_type": "stream",
     "text": [
      "pool_size=5 size=1000 func=<function set_filter at 0x7fa692c6f520>\n",
      "pool_size=5 size=1500 func=<function set_filter at 0x7fa692c6f520>\n",
      "pool_size=5 size=2000 func=<function set_filter at 0x7fa692c6f520>\n",
      "pool_size=5 size=2500 func=<function set_filter at 0x7fa692c6f520>\n",
      "pool_size=5 size=3000 func=<function set_filter at 0x7fa692c6f520>\n",
      "pool_size=5 size=500 func=<function list_filter at 0x7fa693b93760>\n"
     ]
    },
    {
     "name": "stderr",
     "output_type": "stream",
     "text": [
      "/home/mansmooth/anaconda3/envs/se481-2023/lib/python3.10/site-packages/numpy/core/fromnumeric.py:59: FutureWarning: 'Series.swapaxes' is deprecated and will be removed in a future version. Please use 'Series.transpose' instead.\n",
      "  return bound(*args, **kwds)\n"
     ]
    },
    {
     "name": "stdout",
     "output_type": "stream",
     "text": [
      "pool_size=5 size=1000 func=<function list_filter at 0x7fa693b93760>\n",
      "pool_size=5 size=1500 func=<function list_filter at 0x7fa693b93760>\n",
      "pool_size=5 size=2000 func=<function list_filter at 0x7fa693b93760>\n",
      "pool_size=5 size=2500 func=<function list_filter at 0x7fa693b93760>\n",
      "pool_size=5 size=3000 func=<function list_filter at 0x7fa693b93760>\n",
      "pool_size=6 size=500 func=<function set_filter at 0x7fa692c6f520>\n"
     ]
    },
    {
     "name": "stderr",
     "output_type": "stream",
     "text": [
      "/home/mansmooth/anaconda3/envs/se481-2023/lib/python3.10/site-packages/numpy/core/fromnumeric.py:59: FutureWarning: 'Series.swapaxes' is deprecated and will be removed in a future version. Please use 'Series.transpose' instead.\n",
      "  return bound(*args, **kwds)\n"
     ]
    },
    {
     "name": "stdout",
     "output_type": "stream",
     "text": [
      "pool_size=6 size=1000 func=<function set_filter at 0x7fa692c6f520>\n",
      "pool_size=6 size=1500 func=<function set_filter at 0x7fa692c6f520>\n",
      "pool_size=6 size=2000 func=<function set_filter at 0x7fa692c6f520>\n",
      "pool_size=6 size=2500 func=<function set_filter at 0x7fa692c6f520>\n",
      "pool_size=6 size=3000 func=<function set_filter at 0x7fa692c6f520>\n",
      "pool_size=6 size=500 func=<function list_filter at 0x7fa693b93760>\n"
     ]
    },
    {
     "name": "stderr",
     "output_type": "stream",
     "text": [
      "/home/mansmooth/anaconda3/envs/se481-2023/lib/python3.10/site-packages/numpy/core/fromnumeric.py:59: FutureWarning: 'Series.swapaxes' is deprecated and will be removed in a future version. Please use 'Series.transpose' instead.\n",
      "  return bound(*args, **kwds)\n"
     ]
    },
    {
     "name": "stdout",
     "output_type": "stream",
     "text": [
      "pool_size=6 size=1000 func=<function list_filter at 0x7fa693b93760>\n",
      "pool_size=6 size=1500 func=<function list_filter at 0x7fa693b93760>\n",
      "pool_size=6 size=2000 func=<function list_filter at 0x7fa693b93760>\n",
      "pool_size=6 size=2500 func=<function list_filter at 0x7fa693b93760>\n",
      "pool_size=6 size=3000 func=<function list_filter at 0x7fa693b93760>\n",
      "pool_size=7 size=500 func=<function set_filter at 0x7fa692c6f520>\n"
     ]
    },
    {
     "name": "stderr",
     "output_type": "stream",
     "text": [
      "/home/mansmooth/anaconda3/envs/se481-2023/lib/python3.10/site-packages/numpy/core/fromnumeric.py:59: FutureWarning: 'Series.swapaxes' is deprecated and will be removed in a future version. Please use 'Series.transpose' instead.\n",
      "  return bound(*args, **kwds)\n"
     ]
    },
    {
     "name": "stdout",
     "output_type": "stream",
     "text": [
      "pool_size=7 size=1000 func=<function set_filter at 0x7fa692c6f520>\n",
      "pool_size=7 size=1500 func=<function set_filter at 0x7fa692c6f520>\n",
      "pool_size=7 size=2000 func=<function set_filter at 0x7fa692c6f520>\n",
      "pool_size=7 size=2500 func=<function set_filter at 0x7fa692c6f520>\n",
      "pool_size=7 size=3000 func=<function set_filter at 0x7fa692c6f520>\n",
      "pool_size=7 size=500 func=<function list_filter at 0x7fa693b93760>\n"
     ]
    },
    {
     "name": "stderr",
     "output_type": "stream",
     "text": [
      "/home/mansmooth/anaconda3/envs/se481-2023/lib/python3.10/site-packages/numpy/core/fromnumeric.py:59: FutureWarning: 'Series.swapaxes' is deprecated and will be removed in a future version. Please use 'Series.transpose' instead.\n",
      "  return bound(*args, **kwds)\n"
     ]
    },
    {
     "name": "stdout",
     "output_type": "stream",
     "text": [
      "pool_size=7 size=1000 func=<function list_filter at 0x7fa693b93760>\n",
      "pool_size=7 size=1500 func=<function list_filter at 0x7fa693b93760>\n",
      "pool_size=7 size=2000 func=<function list_filter at 0x7fa693b93760>\n",
      "pool_size=7 size=2500 func=<function list_filter at 0x7fa693b93760>\n",
      "pool_size=7 size=3000 func=<function list_filter at 0x7fa693b93760>\n",
      "pool_size=8 size=500 func=<function set_filter at 0x7fa692c6f520>\n"
     ]
    },
    {
     "name": "stderr",
     "output_type": "stream",
     "text": [
      "/home/mansmooth/anaconda3/envs/se481-2023/lib/python3.10/site-packages/numpy/core/fromnumeric.py:59: FutureWarning: 'Series.swapaxes' is deprecated and will be removed in a future version. Please use 'Series.transpose' instead.\n",
      "  return bound(*args, **kwds)\n"
     ]
    },
    {
     "name": "stdout",
     "output_type": "stream",
     "text": [
      "pool_size=8 size=1000 func=<function set_filter at 0x7fa692c6f520>\n",
      "pool_size=8 size=1500 func=<function set_filter at 0x7fa692c6f520>\n",
      "pool_size=8 size=2000 func=<function set_filter at 0x7fa692c6f520>\n",
      "pool_size=8 size=2500 func=<function set_filter at 0x7fa692c6f520>\n",
      "pool_size=8 size=3000 func=<function set_filter at 0x7fa692c6f520>\n",
      "pool_size=8 size=500 func=<function list_filter at 0x7fa693b93760>\n"
     ]
    },
    {
     "name": "stderr",
     "output_type": "stream",
     "text": [
      "/home/mansmooth/anaconda3/envs/se481-2023/lib/python3.10/site-packages/numpy/core/fromnumeric.py:59: FutureWarning: 'Series.swapaxes' is deprecated and will be removed in a future version. Please use 'Series.transpose' instead.\n",
      "  return bound(*args, **kwds)\n"
     ]
    },
    {
     "name": "stdout",
     "output_type": "stream",
     "text": [
      "pool_size=8 size=1000 func=<function list_filter at 0x7fa693b93760>\n",
      "pool_size=8 size=1500 func=<function list_filter at 0x7fa693b93760>\n",
      "pool_size=8 size=2000 func=<function list_filter at 0x7fa693b93760>\n",
      "pool_size=8 size=2500 func=<function list_filter at 0x7fa693b93760>\n",
      "pool_size=8 size=3000 func=<function list_filter at 0x7fa693b93760>\n"
     ]
    },
    {
     "data": {
      "text/html": [
       "<div>\n",
       "<style scoped>\n",
       "    .dataframe tbody tr th:only-of-type {\n",
       "        vertical-align: middle;\n",
       "    }\n",
       "\n",
       "    .dataframe tbody tr th {\n",
       "        vertical-align: top;\n",
       "    }\n",
       "\n",
       "    .dataframe thead th {\n",
       "        text-align: right;\n",
       "    }\n",
       "</style>\n",
       "<table border=\"1\" class=\"dataframe\">\n",
       "  <thead>\n",
       "    <tr style=\"text-align: right;\">\n",
       "      <th></th>\n",
       "      <th>size</th>\n",
       "      <th>set_1</th>\n",
       "      <th>list_1</th>\n",
       "      <th>set_2</th>\n",
       "      <th>list_2</th>\n",
       "      <th>set_3</th>\n",
       "      <th>list_3</th>\n",
       "      <th>set_4</th>\n",
       "      <th>list_4</th>\n",
       "      <th>set_5</th>\n",
       "      <th>list_5</th>\n",
       "      <th>set_6</th>\n",
       "      <th>list_6</th>\n",
       "      <th>set_7</th>\n",
       "      <th>list_7</th>\n",
       "      <th>set_8</th>\n",
       "      <th>list_8</th>\n",
       "    </tr>\n",
       "  </thead>\n",
       "  <tbody>\n",
       "    <tr>\n",
       "      <th>0</th>\n",
       "      <td>500</td>\n",
       "      <td>0.148807</td>\n",
       "      <td>5.467265</td>\n",
       "      <td>0.107585</td>\n",
       "      <td>3.014790</td>\n",
       "      <td>0.117922</td>\n",
       "      <td>2.435879</td>\n",
       "      <td>0.130160</td>\n",
       "      <td>1.979693</td>\n",
       "      <td>0.132529</td>\n",
       "      <td>1.735131</td>\n",
       "      <td>0.148417</td>\n",
       "      <td>1.620949</td>\n",
       "      <td>0.180596</td>\n",
       "      <td>1.411127</td>\n",
       "      <td>0.184493</td>\n",
       "      <td>1.465444</td>\n",
       "    </tr>\n",
       "    <tr>\n",
       "      <th>1</th>\n",
       "      <td>1000</td>\n",
       "      <td>0.270964</td>\n",
       "      <td>10.835127</td>\n",
       "      <td>0.162349</td>\n",
       "      <td>5.916408</td>\n",
       "      <td>0.170186</td>\n",
       "      <td>4.444098</td>\n",
       "      <td>0.181001</td>\n",
       "      <td>3.793801</td>\n",
       "      <td>0.182189</td>\n",
       "      <td>3.448185</td>\n",
       "      <td>0.204892</td>\n",
       "      <td>3.072571</td>\n",
       "      <td>0.239030</td>\n",
       "      <td>2.824424</td>\n",
       "      <td>0.234710</td>\n",
       "      <td>2.663681</td>\n",
       "    </tr>\n",
       "    <tr>\n",
       "      <th>2</th>\n",
       "      <td>1500</td>\n",
       "      <td>0.385435</td>\n",
       "      <td>16.589270</td>\n",
       "      <td>0.223575</td>\n",
       "      <td>9.092209</td>\n",
       "      <td>0.223892</td>\n",
       "      <td>7.184719</td>\n",
       "      <td>0.234248</td>\n",
       "      <td>6.568794</td>\n",
       "      <td>0.232761</td>\n",
       "      <td>5.879443</td>\n",
       "      <td>0.256961</td>\n",
       "      <td>4.764839</td>\n",
       "      <td>0.277456</td>\n",
       "      <td>4.368071</td>\n",
       "      <td>0.297040</td>\n",
       "      <td>4.361355</td>\n",
       "    </tr>\n",
       "    <tr>\n",
       "      <th>3</th>\n",
       "      <td>2000</td>\n",
       "      <td>0.489719</td>\n",
       "      <td>22.357019</td>\n",
       "      <td>0.312709</td>\n",
       "      <td>12.358032</td>\n",
       "      <td>0.266203</td>\n",
       "      <td>9.344196</td>\n",
       "      <td>0.293039</td>\n",
       "      <td>8.747789</td>\n",
       "      <td>0.282743</td>\n",
       "      <td>7.953694</td>\n",
       "      <td>0.300004</td>\n",
       "      <td>6.280163</td>\n",
       "      <td>0.331752</td>\n",
       "      <td>6.167004</td>\n",
       "      <td>0.330283</td>\n",
       "      <td>5.583547</td>\n",
       "    </tr>\n",
       "    <tr>\n",
       "      <th>4</th>\n",
       "      <td>2500</td>\n",
       "      <td>0.572128</td>\n",
       "      <td>27.755147</td>\n",
       "      <td>0.362185</td>\n",
       "      <td>16.488713</td>\n",
       "      <td>0.349659</td>\n",
       "      <td>11.240552</td>\n",
       "      <td>0.344710</td>\n",
       "      <td>10.346146</td>\n",
       "      <td>0.355184</td>\n",
       "      <td>8.742919</td>\n",
       "      <td>0.370840</td>\n",
       "      <td>8.003956</td>\n",
       "      <td>0.402848</td>\n",
       "      <td>7.022932</td>\n",
       "      <td>0.379305</td>\n",
       "      <td>6.609055</td>\n",
       "    </tr>\n",
       "    <tr>\n",
       "      <th>5</th>\n",
       "      <td>3000</td>\n",
       "      <td>0.603632</td>\n",
       "      <td>33.361200</td>\n",
       "      <td>0.456612</td>\n",
       "      <td>19.104195</td>\n",
       "      <td>0.405492</td>\n",
       "      <td>13.520960</td>\n",
       "      <td>0.435696</td>\n",
       "      <td>10.723310</td>\n",
       "      <td>0.389166</td>\n",
       "      <td>9.997940</td>\n",
       "      <td>0.442893</td>\n",
       "      <td>9.563621</td>\n",
       "      <td>0.456011</td>\n",
       "      <td>8.391768</td>\n",
       "      <td>0.435361</td>\n",
       "      <td>7.920820</td>\n",
       "    </tr>\n",
       "  </tbody>\n",
       "</table>\n",
       "</div>"
      ],
      "text/plain": [
       "   size     set_1     list_1     set_2     list_2     set_3     list_3  \\\n",
       "0   500  0.148807   5.467265  0.107585   3.014790  0.117922   2.435879   \n",
       "1  1000  0.270964  10.835127  0.162349   5.916408  0.170186   4.444098   \n",
       "2  1500  0.385435  16.589270  0.223575   9.092209  0.223892   7.184719   \n",
       "3  2000  0.489719  22.357019  0.312709  12.358032  0.266203   9.344196   \n",
       "4  2500  0.572128  27.755147  0.362185  16.488713  0.349659  11.240552   \n",
       "5  3000  0.603632  33.361200  0.456612  19.104195  0.405492  13.520960   \n",
       "\n",
       "      set_4     list_4     set_5    list_5     set_6    list_6     set_7  \\\n",
       "0  0.130160   1.979693  0.132529  1.735131  0.148417  1.620949  0.180596   \n",
       "1  0.181001   3.793801  0.182189  3.448185  0.204892  3.072571  0.239030   \n",
       "2  0.234248   6.568794  0.232761  5.879443  0.256961  4.764839  0.277456   \n",
       "3  0.293039   8.747789  0.282743  7.953694  0.300004  6.280163  0.331752   \n",
       "4  0.344710  10.346146  0.355184  8.742919  0.370840  8.003956  0.402848   \n",
       "5  0.435696  10.723310  0.389166  9.997940  0.442893  9.563621  0.456011   \n",
       "\n",
       "     list_7     set_8    list_8  \n",
       "0  1.411127  0.184493  1.465444  \n",
       "1  2.824424  0.234710  2.663681  \n",
       "2  4.368071  0.297040  4.361355  \n",
       "3  6.167004  0.330283  5.583547  \n",
       "4  7.022932  0.379305  6.609055  \n",
       "5  8.391768  0.435361  7.920820  "
      ]
     },
     "execution_count": 92,
     "metadata": {},
     "output_type": "execute_result"
    }
   ],
   "source": [
    "pool_sizes = [1, 2, 4, 8, 12]\n",
    "\n",
    "def process(pool_size, size, func):\n",
    "    print(f\"{pool_size=} {size=} {func=}\")\n",
    "    split = np.array_split(descriptions[:size], pool_size)\n",
    "    with Pool(pool_size) as p:\n",
    "        p.map(func, split)\n",
    "\n",
    "for n in pool_sizes:\n",
    "    perf_df[f\"set_{n}\"] = perf_df[\"size\"].apply(lambda x: timeit.timeit(lambda: process(n, x, set_filter), number=1))\n",
    "    perf_df[f\"list_{n}\"] = perf_df[\"size\"].apply(lambda x: timeit.timeit(lambda: process(n, x, list_filter), number=1))\n",
    "\n",
    "perf_df\n"
   ]
  },
  {
   "cell_type": "code",
   "execution_count": 103,
   "metadata": {},
   "outputs": [
    {
     "name": "stdout",
     "output_type": "stream",
     "text": [
      "pool_size=1 size=10000 func=<function set_filter at 0x7fa692c6f520>\n"
     ]
    },
    {
     "name": "stderr",
     "output_type": "stream",
     "text": [
      "/home/mansmooth/anaconda3/envs/se481-2023/lib/python3.10/site-packages/numpy/core/fromnumeric.py:59: FutureWarning: 'Series.swapaxes' is deprecated and will be removed in a future version. Please use 'Series.transpose' instead.\n",
      "  return bound(*args, **kwds)\n"
     ]
    },
    {
     "name": "stdout",
     "output_type": "stream",
     "text": [
      "pool_size=2 size=10000 func=<function set_filter at 0x7fa692c6f520>\n",
      "pool_size=4 size=10000 func=<function set_filter at 0x7fa692c6f520>\n",
      "pool_size=8 size=10000 func=<function set_filter at 0x7fa692c6f520>\n",
      "pool_size=12 size=10000 func=<function set_filter at 0x7fa692c6f520>\n",
      "pool_size=1 size=10000 func=<function list_filter at 0x7fa693b93760>\n"
     ]
    },
    {
     "name": "stderr",
     "output_type": "stream",
     "text": [
      "/home/mansmooth/anaconda3/envs/se481-2023/lib/python3.10/site-packages/numpy/core/fromnumeric.py:59: FutureWarning: 'Series.swapaxes' is deprecated and will be removed in a future version. Please use 'Series.transpose' instead.\n",
      "  return bound(*args, **kwds)\n"
     ]
    },
    {
     "name": "stdout",
     "output_type": "stream",
     "text": [
      "pool_size=2 size=10000 func=<function list_filter at 0x7fa693b93760>\n",
      "pool_size=4 size=10000 func=<function list_filter at 0x7fa693b93760>\n",
      "pool_size=8 size=10000 func=<function list_filter at 0x7fa693b93760>\n",
      "pool_size=12 size=10000 func=<function list_filter at 0x7fa693b93760>\n"
     ]
    },
    {
     "data": {
      "text/html": [
       "<div>\n",
       "<style scoped>\n",
       "    .dataframe tbody tr th:only-of-type {\n",
       "        vertical-align: middle;\n",
       "    }\n",
       "\n",
       "    .dataframe tbody tr th {\n",
       "        vertical-align: top;\n",
       "    }\n",
       "\n",
       "    .dataframe thead th {\n",
       "        text-align: right;\n",
       "    }\n",
       "</style>\n",
       "<table border=\"1\" class=\"dataframe\">\n",
       "  <thead>\n",
       "    <tr style=\"text-align: right;\">\n",
       "      <th></th>\n",
       "      <th>pool_size</th>\n",
       "      <th>set</th>\n",
       "      <th>list</th>\n",
       "    </tr>\n",
       "  </thead>\n",
       "  <tbody>\n",
       "    <tr>\n",
       "      <th>0</th>\n",
       "      <td>1</td>\n",
       "      <td>2.341643</td>\n",
       "      <td>113.011733</td>\n",
       "    </tr>\n",
       "    <tr>\n",
       "      <th>1</th>\n",
       "      <td>2</td>\n",
       "      <td>1.756471</td>\n",
       "      <td>61.779760</td>\n",
       "    </tr>\n",
       "    <tr>\n",
       "      <th>2</th>\n",
       "      <td>4</td>\n",
       "      <td>1.335566</td>\n",
       "      <td>35.961083</td>\n",
       "    </tr>\n",
       "    <tr>\n",
       "      <th>3</th>\n",
       "      <td>8</td>\n",
       "      <td>1.319586</td>\n",
       "      <td>25.053799</td>\n",
       "    </tr>\n",
       "    <tr>\n",
       "      <th>4</th>\n",
       "      <td>12</td>\n",
       "      <td>1.434732</td>\n",
       "      <td>22.508527</td>\n",
       "    </tr>\n",
       "  </tbody>\n",
       "</table>\n",
       "</div>"
      ],
      "text/plain": [
       "   pool_size       set        list\n",
       "0          1  2.341643  113.011733\n",
       "1          2  1.756471   61.779760\n",
       "2          4  1.335566   35.961083\n",
       "3          8  1.319586   25.053799\n",
       "4         12  1.434732   22.508527"
      ]
     },
     "execution_count": 103,
     "metadata": {},
     "output_type": "execute_result"
    }
   ],
   "source": [
    "pool_sizes = [1, 2, 4, 8, 12]\n",
    "\n",
    "perf_pool_df = pd.DataFrame(pool_sizes, columns=[\"pool_size\"])\n",
    "\n",
    "def process(pool_size, size, func):\n",
    "    print(f\"{pool_size=} {size=} {func=}\")\n",
    "    split = np.array_split(descriptions[:size], pool_size)\n",
    "    with Pool(pool_size) as p:\n",
    "        p.map(func, split)\n",
    "\n",
    "perf_pool_df[\"set\"] = perf_pool_df[\"pool_size\"].apply(lambda x: timeit.timeit(lambda: process(x, 10000, set_filter), number=1))\n",
    "perf_pool_df[\"list\"] = perf_pool_df[\"pool_size\"].apply(lambda x: timeit.timeit(lambda: process(x, 10000, list_filter), number=1))\n",
    "\n",
    "perf_pool_df\n"
   ]
  },
  {
   "cell_type": "code",
   "execution_count": 106,
   "metadata": {},
   "outputs": [
    {
     "data": {
      "text/plain": [
       "<Axes: xlabel='size', ylabel='seconds'>"
      ]
     },
     "execution_count": 106,
     "metadata": {},
     "output_type": "execute_result"
    },
    {
     "data": {
      "image/png": "[encoded data removed]",
      "text/plain": [
       "<Figure size 640x480 with 1 Axes>"
      ]
     },
     "metadata": {},
     "output_type": "display_data"
    }
   ],
   "source": [
    "perf_df.plot(x=\"size\", y=[f\"list_{n}\" for n in range(1,9)], ylabel=\"seconds\")\n"
   ]
  },
  {
   "cell_type": "code",
   "execution_count": 107,
   "metadata": {},
   "outputs": [
    {
     "data": {
      "text/plain": [
       "<Axes: xlabel='pool_size', ylabel='seconds'>"
      ]
     },
     "execution_count": 107,
     "metadata": {},
     "output_type": "execute_result"
    },
    {
     "data": {
      "image/png": "[encoded data removed]",
      "text/plain": [
       "<Figure size 640x480 with 1 Axes>"
      ]
     },
     "metadata": {},
     "output_type": "display_data"
    }
   ],
   "source": [
    "perf_pool_df.plot(x=\"pool_size\", y=[\"set\", \"list\"], ylabel=\"seconds\")\n"
   ]
  }
 ],
 "metadata": {
  "kernelspec": {
   "display_name": "se481-2023",
   "language": "python",
   "name": "python3"
  },
  "language_info": {
   "codemirror_mode": {
    "name": "ipython",
    "version": 3
   },
   "file_extension": ".py",
   "mimetype": "text/x-python",
   "name": "python",
   "nbconvert_exporter": "python",
   "pygments_lexer": "ipython3",
   "version": "3.10.13"
  }
 },
 "nbformat": 4,
 "nbformat_minor": 2
}
